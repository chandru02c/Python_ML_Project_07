{
 "cells": [
  {
   "cell_type": "code",
   "execution_count": 1,
   "id": "52ed09a5-beba-42fe-99b6-383a14ca96ab",
   "metadata": {},
   "outputs": [],
   "source": [
    "# import library\n",
    "import pandas as pd\n",
    "import numpy as np\n",
    "import matplotlib.pyplot as plt\n",
    "import seaborn as sns"
   ]
  },
  {
   "cell_type": "code",
   "execution_count": 2,
   "id": "79295a95-7baa-45af-a636-bf07b239a069",
   "metadata": {},
   "outputs": [],
   "source": [
    "economicofscale = pd.read_csv('https://github.com/ybifoundation/Dataset/raw/main/Economy%20of%20Scale.csv')"
   ]
  },
  {
   "cell_type": "code",
   "execution_count": 3,
   "id": "41bb06b9-55ed-4e0c-b86f-622b7745687d",
   "metadata": {},
   "outputs": [
    {
     "data": {
      "text/html": [
       "<div>\n",
       "<style scoped>\n",
       "    .dataframe tbody tr th:only-of-type {\n",
       "        vertical-align: middle;\n",
       "    }\n",
       "\n",
       "    .dataframe tbody tr th {\n",
       "        vertical-align: top;\n",
       "    }\n",
       "\n",
       "    .dataframe thead th {\n",
       "        text-align: right;\n",
       "    }\n",
       "</style>\n",
       "<table border=\"1\" class=\"dataframe\">\n",
       "  <thead>\n",
       "    <tr style=\"text-align: right;\">\n",
       "      <th></th>\n",
       "      <th>Units</th>\n",
       "      <th>Cost</th>\n",
       "    </tr>\n",
       "  </thead>\n",
       "  <tbody>\n",
       "    <tr>\n",
       "      <th>0</th>\n",
       "      <td>1.0</td>\n",
       "      <td>95.1</td>\n",
       "    </tr>\n",
       "    <tr>\n",
       "      <th>1</th>\n",
       "      <td>1.2</td>\n",
       "      <td>96.5</td>\n",
       "    </tr>\n",
       "    <tr>\n",
       "      <th>2</th>\n",
       "      <td>1.2</td>\n",
       "      <td>73.7</td>\n",
       "    </tr>\n",
       "    <tr>\n",
       "      <th>3</th>\n",
       "      <td>1.2</td>\n",
       "      <td>95.6</td>\n",
       "    </tr>\n",
       "    <tr>\n",
       "      <th>4</th>\n",
       "      <td>1.3</td>\n",
       "      <td>98.8</td>\n",
       "    </tr>\n",
       "  </tbody>\n",
       "</table>\n",
       "</div>"
      ],
      "text/plain": [
       "   Units  Cost\n",
       "0    1.0  95.1\n",
       "1    1.2  96.5\n",
       "2    1.2  73.7\n",
       "3    1.2  95.6\n",
       "4    1.3  98.8"
      ]
     },
     "execution_count": 3,
     "metadata": {},
     "output_type": "execute_result"
    }
   ],
   "source": [
    "economicofscale.head()"
   ]
  },
  {
   "cell_type": "code",
   "execution_count": 4,
   "id": "d73010ed-f74d-4297-9d66-3a8d349b3e6d",
   "metadata": {},
   "outputs": [
    {
     "name": "stdout",
     "output_type": "stream",
     "text": [
      "<class 'pandas.core.frame.DataFrame'>\n",
      "RangeIndex: 1000 entries, 0 to 999\n",
      "Data columns (total 2 columns):\n",
      " #   Column  Non-Null Count  Dtype  \n",
      "---  ------  --------------  -----  \n",
      " 0   Units   1000 non-null   float64\n",
      " 1   Cost    1000 non-null   float64\n",
      "dtypes: float64(2)\n",
      "memory usage: 15.8 KB\n"
     ]
    }
   ],
   "source": [
    "economicofscale.info()"
   ]
  },
  {
   "cell_type": "code",
   "execution_count": 5,
   "id": "58f9cf7c-b00b-4c67-89ff-87a8808e0bf6",
   "metadata": {},
   "outputs": [
    {
     "data": {
      "text/html": [
       "<div>\n",
       "<style scoped>\n",
       "    .dataframe tbody tr th:only-of-type {\n",
       "        vertical-align: middle;\n",
       "    }\n",
       "\n",
       "    .dataframe tbody tr th {\n",
       "        vertical-align: top;\n",
       "    }\n",
       "\n",
       "    .dataframe thead th {\n",
       "        text-align: right;\n",
       "    }\n",
       "</style>\n",
       "<table border=\"1\" class=\"dataframe\">\n",
       "  <thead>\n",
       "    <tr style=\"text-align: right;\">\n",
       "      <th></th>\n",
       "      <th>Units</th>\n",
       "      <th>Cost</th>\n",
       "    </tr>\n",
       "  </thead>\n",
       "  <tbody>\n",
       "    <tr>\n",
       "      <th>count</th>\n",
       "      <td>1000.000000</td>\n",
       "      <td>1000.000000</td>\n",
       "    </tr>\n",
       "    <tr>\n",
       "      <th>mean</th>\n",
       "      <td>4.471500</td>\n",
       "      <td>40.053200</td>\n",
       "    </tr>\n",
       "    <tr>\n",
       "      <th>std</th>\n",
       "      <td>1.336437</td>\n",
       "      <td>10.596183</td>\n",
       "    </tr>\n",
       "    <tr>\n",
       "      <th>min</th>\n",
       "      <td>1.000000</td>\n",
       "      <td>20.000000</td>\n",
       "    </tr>\n",
       "    <tr>\n",
       "      <th>25%</th>\n",
       "      <td>3.600000</td>\n",
       "      <td>32.900000</td>\n",
       "    </tr>\n",
       "    <tr>\n",
       "      <th>50%</th>\n",
       "      <td>4.400000</td>\n",
       "      <td>38.300000</td>\n",
       "    </tr>\n",
       "    <tr>\n",
       "      <th>75%</th>\n",
       "      <td>5.300000</td>\n",
       "      <td>44.525000</td>\n",
       "    </tr>\n",
       "    <tr>\n",
       "      <th>max</th>\n",
       "      <td>10.000000</td>\n",
       "      <td>100.000000</td>\n",
       "    </tr>\n",
       "  </tbody>\n",
       "</table>\n",
       "</div>"
      ],
      "text/plain": [
       "             Units         Cost\n",
       "count  1000.000000  1000.000000\n",
       "mean      4.471500    40.053200\n",
       "std       1.336437    10.596183\n",
       "min       1.000000    20.000000\n",
       "25%       3.600000    32.900000\n",
       "50%       4.400000    38.300000\n",
       "75%       5.300000    44.525000\n",
       "max      10.000000   100.000000"
      ]
     },
     "execution_count": 5,
     "metadata": {},
     "output_type": "execute_result"
    }
   ],
   "source": [
    "economicofscale.describe()"
   ]
  },
  {
   "cell_type": "code",
   "execution_count": 6,
   "id": "fd85112a-2f90-4412-80b8-a74af5c6ba49",
   "metadata": {},
   "outputs": [
    {
     "data": {
      "text/plain": [
       "<seaborn.axisgrid.PairGrid at 0x1e23dcf4650>"
      ]
     },
     "execution_count": 6,
     "metadata": {},
     "output_type": "execute_result"
    },
    {
     "data": {
      "image/png": "[encoded data removed]",
      "text/plain": [
       "<Figure size 500x500 with 6 Axes>"
      ]
     },
     "metadata": {},
     "output_type": "display_data"
    }
   ],
   "source": [
    "sns.pairplot(economicofscale)"
   ]
  },
  {
   "cell_type": "code",
   "execution_count": 7,
   "id": "642ff13f-dc6f-4855-9117-de9da1bdab67",
   "metadata": {},
   "outputs": [
    {
     "data": {
      "text/plain": [
       "<Axes: ylabel='Units'>"
      ]
     },
     "execution_count": 7,
     "metadata": {},
     "output_type": "execute_result"
    },
    {
     "data": {
      "image/png": "[encoded data removed]",
      "text/plain": [
       "<Figure size 640x480 with 1 Axes>"
      ]
     },
     "metadata": {},
     "output_type": "display_data"
    }
   ],
   "source": [
    "sns.lineplot(data=economicofscale['Units'])"
   ]
  },
  {
   "cell_type": "code",
   "execution_count": 8,
   "id": "60cb8d26-1410-4e02-968e-57fb8149c267",
   "metadata": {},
   "outputs": [
    {
     "data": {
      "text/plain": [
       "<Axes: ylabel='Cost'>"
      ]
     },
     "execution_count": 8,
     "metadata": {},
     "output_type": "execute_result"
    },
    {
     "data": {
      "image/png": "[encoded data removed]",
      "text/plain": [
       "<Figure size 640x480 with 1 Axes>"
      ]
     },
     "metadata": {},
     "output_type": "display_data"
    }
   ],
   "source": [
    "sns.lineplot(data=economicofscale['Cost'])"
   ]
  },
  {
   "cell_type": "code",
   "execution_count": 9,
   "id": "85adf1ae-b502-4e3d-ad61-ea4cde2d4140",
   "metadata": {},
   "outputs": [],
   "source": [
    "# define target and features\n",
    "y = economicofscale['Cost']\n",
    "X = economicofscale[['Units']]"
   ]
  },
  {
   "cell_type": "code",
   "execution_count": 10,
   "id": "f9f8b262-2d95-46f8-862f-132f91dda8a8",
   "metadata": {},
   "outputs": [
    {
     "data": {
      "text/plain": [
       "(1000, 1)"
      ]
     },
     "execution_count": 10,
     "metadata": {},
     "output_type": "execute_result"
    }
   ],
   "source": [
    "X.shape"
   ]
  },
  {
   "cell_type": "code",
   "execution_count": 11,
   "id": "7071fbfe-d69b-4c56-8f43-7f9d03748ae0",
   "metadata": {},
   "outputs": [
    {
     "data": {
      "text/plain": [
       "(1000,)"
      ]
     },
     "execution_count": 11,
     "metadata": {},
     "output_type": "execute_result"
    }
   ],
   "source": [
    "y.shape"
   ]
  },
  {
   "cell_type": "code",
   "execution_count": 12,
   "id": "ce032e0a-3924-4990-9982-185f25397b4a",
   "metadata": {},
   "outputs": [],
   "source": [
    "# split \n",
    "from sklearn.model_selection import train_test_split\n",
    "X_train, X_test, y_train, y_test = train_test_split(X, y,random_state =2529)"
   ]
  },
  {
   "cell_type": "code",
   "execution_count": 13,
   "id": "c61d5f3f-20e6-4d2d-96b8-add65c4e960d",
   "metadata": {},
   "outputs": [],
   "source": [
    "# selct model\n",
    "from sklearn.linear_model import LinearRegression\n",
    "regmodel = LinearRegression()"
   ]
  },
  {
   "cell_type": "code",
   "execution_count": 14,
   "id": "4a1674b2-4bc3-4a8d-bf80-1f9b1da3c3d4",
   "metadata": {},
   "outputs": [
    {
     "data": {
      "text/html": [
       "<style>#sk-container-id-1 {color: black;}#sk-container-id-1 pre{padding: 0;}#sk-container-id-1 div.sk-toggleable {background-color: white;}#sk-container-id-1 label.sk-toggleable__label {cursor: pointer;display: block;width: 100%;margin-bottom: 0;padding: 0.3em;box-sizing: border-box;text-align: center;}#sk-container-id-1 label.sk-toggleable__label-arrow:before {content: \"▸\";float: left;margin-right: 0.25em;color: #696969;}#sk-container-id-1 label.sk-toggleable__label-arrow:hover:before {color: black;}#sk-container-id-1 div.sk-estimator:hover label.sk-toggleable__label-arrow:before {color: black;}#sk-container-id-1 div.sk-toggleable__content {max-height: 0;max-width: 0;overflow: hidden;text-align: left;background-color: #f0f8ff;}#sk-container-id-1 div.sk-toggleable__content pre {margin: 0.2em;color: black;border-radius: 0.25em;background-color: #f0f8ff;}#sk-container-id-1 input.sk-toggleable__control:checked~div.sk-toggleable__content {max-height: 200px;max-width: 100%;overflow: auto;}#sk-container-id-1 input.sk-toggleable__control:checked~label.sk-toggleable__label-arrow:before {content: \"▾\";}#sk-container-id-1 div.sk-estimator input.sk-toggleable__control:checked~label.sk-toggleable__label {background-color: #d4ebff;}#sk-container-id-1 div.sk-label input.sk-toggleable__control:checked~label.sk-toggleable__label {background-color: #d4ebff;}#sk-container-id-1 input.sk-hidden--visually {border: 0;clip: rect(1px 1px 1px 1px);clip: rect(1px, 1px, 1px, 1px);height: 1px;margin: -1px;overflow: hidden;padding: 0;position: absolute;width: 1px;}#sk-container-id-1 div.sk-estimator {font-family: monospace;background-color: #f0f8ff;border: 1px dotted black;border-radius: 0.25em;box-sizing: border-box;margin-bottom: 0.5em;}#sk-container-id-1 div.sk-estimator:hover {background-color: #d4ebff;}#sk-container-id-1 div.sk-parallel-item::after {content: \"\";width: 100%;border-bottom: 1px solid gray;flex-grow: 1;}#sk-container-id-1 div.sk-label:hover label.sk-toggleable__label {background-color: #d4ebff;}#sk-container-id-1 div.sk-serial::before {content: \"\";position: absolute;border-left: 1px solid gray;box-sizing: border-box;top: 0;bottom: 0;left: 50%;z-index: 0;}#sk-container-id-1 div.sk-serial {display: flex;flex-direction: column;align-items: center;background-color: white;padding-right: 0.2em;padding-left: 0.2em;position: relative;}#sk-container-id-1 div.sk-item {position: relative;z-index: 1;}#sk-container-id-1 div.sk-parallel {display: flex;align-items: stretch;justify-content: center;background-color: white;position: relative;}#sk-container-id-1 div.sk-item::before, #sk-container-id-1 div.sk-parallel-item::before {content: \"\";position: absolute;border-left: 1px solid gray;box-sizing: border-box;top: 0;bottom: 0;left: 50%;z-index: -1;}#sk-container-id-1 div.sk-parallel-item {display: flex;flex-direction: column;z-index: 1;position: relative;background-color: white;}#sk-container-id-1 div.sk-parallel-item:first-child::after {align-self: flex-end;width: 50%;}#sk-container-id-1 div.sk-parallel-item:last-child::after {align-self: flex-start;width: 50%;}#sk-container-id-1 div.sk-parallel-item:only-child::after {width: 0;}#sk-container-id-1 div.sk-dashed-wrapped {border: 1px dashed gray;margin: 0 0.4em 0.5em 0.4em;box-sizing: border-box;padding-bottom: 0.4em;background-color: white;}#sk-container-id-1 div.sk-label label {font-family: monospace;font-weight: bold;display: inline-block;line-height: 1.2em;}#sk-container-id-1 div.sk-label-container {text-align: center;}#sk-container-id-1 div.sk-container {/* jupyter's `normalize.less` sets `[hidden] { display: none; }` but bootstrap.min.css set `[hidden] { display: none !important; }` so we also need the `!important` here to be able to override the default hidden behavior on the sphinx rendered scikit-learn.org. See: https://github.com/scikit-learn/scikit-learn/issues/21755 */display: inline-block !important;position: relative;}#sk-container-id-1 div.sk-text-repr-fallback {display: none;}</style><div id=\"sk-container-id-1\" class=\"sk-top-container\"><div class=\"sk-text-repr-fallback\"><pre>LinearRegression()</pre><b>In a Jupyter environment, please rerun this cell to show the HTML representation or trust the notebook. <br />On GitHub, the HTML representation is unable to render, please try loading this page with nbviewer.org.</b></div><div class=\"sk-container\" hidden><div class=\"sk-item\"><div class=\"sk-estimator sk-toggleable\"><input class=\"sk-toggleable__control sk-hidden--visually\" id=\"sk-estimator-id-1\" type=\"checkbox\" checked><label for=\"sk-estimator-id-1\" class=\"sk-toggleable__label sk-toggleable__label-arrow\">LinearRegression</label><div class=\"sk-toggleable__content\"><pre>LinearRegression()</pre></div></div></div></div></div>"
      ],
      "text/plain": [
       "LinearRegression()"
      ]
     },
     "execution_count": 14,
     "metadata": {},
     "output_type": "execute_result"
    }
   ],
   "source": [
    "regmodel.fit(X_train, y_train)"
   ]
  },
  {
   "cell_type": "code",
   "execution_count": 15,
   "id": "54f1712b-2b15-44d7-85c3-33f1c9bb6180",
   "metadata": {},
   "outputs": [
    {
     "data": {
      "text/plain": [
       "65.82998506163781"
      ]
     },
     "execution_count": 15,
     "metadata": {},
     "output_type": "execute_result"
    }
   ],
   "source": [
    "regmodel.intercept_"
   ]
  },
  {
   "cell_type": "code",
   "execution_count": 16,
   "id": "58b680d1-7291-439c-8a9b-320ff9113258",
   "metadata": {},
   "outputs": [
    {
     "data": {
      "text/plain": [
       "array([-5.77565251])"
      ]
     },
     "execution_count": 16,
     "metadata": {},
     "output_type": "execute_result"
    }
   ],
   "source": [
    "regmodel.coef_"
   ]
  },
  {
   "cell_type": "code",
   "execution_count": 17,
   "id": "c2ac76f6-c0e9-4cac-9401-d7f71f4762e1",
   "metadata": {},
   "outputs": [
    {
     "data": {
      "text/plain": [
       "Text(0.5, 1.0, 'Unit Cost vs. Number of Units [in Millions](Training dataset)')"
      ]
     },
     "execution_count": 17,
     "metadata": {},
     "output_type": "execute_result"
    },
    {
     "data": {
      "image/png": "[encoded data removed]",
      "text/plain": [
       "<Figure size 640x480 with 1 Axes>"
      ]
     },
     "metadata": {},
     "output_type": "display_data"
    }
   ],
   "source": [
    "fig,ax = plt.subplots()\n",
    "ax.scatter(X_train, y_train, color = 'red')\n",
    "ax.scatter(X_train, regmodel.predict(X_train), color = 'blue')\n",
    "ax.set_ylabel('Cost Per Unit Sold [dollars]')\n",
    "ax.set_xlabel('Number of Units [in Millions]')\n",
    "ax.set_title('Unit Cost vs. Number of Units [in Millions](Training dataset)')"
   ]
  },
  {
   "cell_type": "code",
   "execution_count": 18,
   "id": "a62573fa-f07a-411c-bed9-4decae3133bc",
   "metadata": {},
   "outputs": [],
   "source": [
    "from sklearn.preprocessing import PolynomialFeatures"
   ]
  },
  {
   "cell_type": "code",
   "execution_count": 19,
   "id": "34b542b5-a927-4d33-baa8-a8a320feb08f",
   "metadata": {},
   "outputs": [],
   "source": [
    "poly_regressor = PolynomialFeatures(degree=2)"
   ]
  },
  {
   "cell_type": "code",
   "execution_count": 20,
   "id": "0b9967fe-8acc-438a-b204-117145dad896",
   "metadata": {},
   "outputs": [],
   "source": [
    "# Transform the matrix of features X into a multi array of features X_Columns \n",
    "# which contains the original features and their associated polynomial terms \n",
    "X_poly = poly_regressor.fit_transform(X)"
   ]
  },
  {
   "cell_type": "code",
   "execution_count": 21,
   "id": "4e656313-07c5-4f0a-b11a-66a55f745e83",
   "metadata": {},
   "outputs": [
    {
     "name": "stdout",
     "output_type": "stream",
     "text": [
      "[[  1.     1.     1.  ]\n",
      " [  1.     1.2    1.44]\n",
      " [  1.     1.2    1.44]\n",
      " ...\n",
      " [  1.     8.8   77.44]\n",
      " [  1.     8.9   79.21]\n",
      " [  1.    10.   100.  ]]\n"
     ]
    }
   ],
   "source": [
    "print(X_poly)"
   ]
  },
  {
   "cell_type": "code",
   "execution_count": 22,
   "id": "a49ad663-dcc0-42b6-a297-e8ff8055af4b",
   "metadata": {},
   "outputs": [
    {
     "data": {
      "text/plain": [
       "(1000, 3)"
      ]
     },
     "execution_count": 22,
     "metadata": {},
     "output_type": "execute_result"
    }
   ],
   "source": [
    "X_poly.shape"
   ]
  },
  {
   "cell_type": "code",
   "execution_count": 23,
   "id": "84233da5-c037-4597-93b7-ab61729ae7ed",
   "metadata": {},
   "outputs": [],
   "source": [
    "Xp_train, Xp_test, yp_train, yp_test = train_test_split(X_poly,y,random_state =2529)"
   ]
  },
  {
   "cell_type": "code",
   "execution_count": 24,
   "id": "29d268cd-ca5b-4599-863f-ab37946c502d",
   "metadata": {},
   "outputs": [],
   "source": [
    "regpoly = LinearRegression()"
   ]
  },
  {
   "cell_type": "code",
   "execution_count": 25,
   "id": "ae307185-74be-4a74-a6fc-2d4961b65a48",
   "metadata": {},
   "outputs": [
    {
     "data": {
      "text/html": [
       "<style>#sk-container-id-2 {color: black;}#sk-container-id-2 pre{padding: 0;}#sk-container-id-2 div.sk-toggleable {background-color: white;}#sk-container-id-2 label.sk-toggleable__label {cursor: pointer;display: block;width: 100%;margin-bottom: 0;padding: 0.3em;box-sizing: border-box;text-align: center;}#sk-container-id-2 label.sk-toggleable__label-arrow:before {content: \"▸\";float: left;margin-right: 0.25em;color: #696969;}#sk-container-id-2 label.sk-toggleable__label-arrow:hover:before {color: black;}#sk-container-id-2 div.sk-estimator:hover label.sk-toggleable__label-arrow:before {color: black;}#sk-container-id-2 div.sk-toggleable__content {max-height: 0;max-width: 0;overflow: hidden;text-align: left;background-color: #f0f8ff;}#sk-container-id-2 div.sk-toggleable__content pre {margin: 0.2em;color: black;border-radius: 0.25em;background-color: #f0f8ff;}#sk-container-id-2 input.sk-toggleable__control:checked~div.sk-toggleable__content {max-height: 200px;max-width: 100%;overflow: auto;}#sk-container-id-2 input.sk-toggleable__control:checked~label.sk-toggleable__label-arrow:before {content: \"▾\";}#sk-container-id-2 div.sk-estimator input.sk-toggleable__control:checked~label.sk-toggleable__label {background-color: #d4ebff;}#sk-container-id-2 div.sk-label input.sk-toggleable__control:checked~label.sk-toggleable__label {background-color: #d4ebff;}#sk-container-id-2 input.sk-hidden--visually {border: 0;clip: rect(1px 1px 1px 1px);clip: rect(1px, 1px, 1px, 1px);height: 1px;margin: -1px;overflow: hidden;padding: 0;position: absolute;width: 1px;}#sk-container-id-2 div.sk-estimator {font-family: monospace;background-color: #f0f8ff;border: 1px dotted black;border-radius: 0.25em;box-sizing: border-box;margin-bottom: 0.5em;}#sk-container-id-2 div.sk-estimator:hover {background-color: #d4ebff;}#sk-container-id-2 div.sk-parallel-item::after {content: \"\";width: 100%;border-bottom: 1px solid gray;flex-grow: 1;}#sk-container-id-2 div.sk-label:hover label.sk-toggleable__label {background-color: #d4ebff;}#sk-container-id-2 div.sk-serial::before {content: \"\";position: absolute;border-left: 1px solid gray;box-sizing: border-box;top: 0;bottom: 0;left: 50%;z-index: 0;}#sk-container-id-2 div.sk-serial {display: flex;flex-direction: column;align-items: center;background-color: white;padding-right: 0.2em;padding-left: 0.2em;position: relative;}#sk-container-id-2 div.sk-item {position: relative;z-index: 1;}#sk-container-id-2 div.sk-parallel {display: flex;align-items: stretch;justify-content: center;background-color: white;position: relative;}#sk-container-id-2 div.sk-item::before, #sk-container-id-2 div.sk-parallel-item::before {content: \"\";position: absolute;border-left: 1px solid gray;box-sizing: border-box;top: 0;bottom: 0;left: 50%;z-index: -1;}#sk-container-id-2 div.sk-parallel-item {display: flex;flex-direction: column;z-index: 1;position: relative;background-color: white;}#sk-container-id-2 div.sk-parallel-item:first-child::after {align-self: flex-end;width: 50%;}#sk-container-id-2 div.sk-parallel-item:last-child::after {align-self: flex-start;width: 50%;}#sk-container-id-2 div.sk-parallel-item:only-child::after {width: 0;}#sk-container-id-2 div.sk-dashed-wrapped {border: 1px dashed gray;margin: 0 0.4em 0.5em 0.4em;box-sizing: border-box;padding-bottom: 0.4em;background-color: white;}#sk-container-id-2 div.sk-label label {font-family: monospace;font-weight: bold;display: inline-block;line-height: 1.2em;}#sk-container-id-2 div.sk-label-container {text-align: center;}#sk-container-id-2 div.sk-container {/* jupyter's `normalize.less` sets `[hidden] { display: none; }` but bootstrap.min.css set `[hidden] { display: none !important; }` so we also need the `!important` here to be able to override the default hidden behavior on the sphinx rendered scikit-learn.org. See: https://github.com/scikit-learn/scikit-learn/issues/21755 */display: inline-block !important;position: relative;}#sk-container-id-2 div.sk-text-repr-fallback {display: none;}</style><div id=\"sk-container-id-2\" class=\"sk-top-container\"><div class=\"sk-text-repr-fallback\"><pre>LinearRegression()</pre><b>In a Jupyter environment, please rerun this cell to show the HTML representation or trust the notebook. <br />On GitHub, the HTML representation is unable to render, please try loading this page with nbviewer.org.</b></div><div class=\"sk-container\" hidden><div class=\"sk-item\"><div class=\"sk-estimator sk-toggleable\"><input class=\"sk-toggleable__control sk-hidden--visually\" id=\"sk-estimator-id-2\" type=\"checkbox\" checked><label for=\"sk-estimator-id-2\" class=\"sk-toggleable__label sk-toggleable__label-arrow\">LinearRegression</label><div class=\"sk-toggleable__content\"><pre>LinearRegression()</pre></div></div></div></div></div>"
      ],
      "text/plain": [
       "LinearRegression()"
      ]
     },
     "execution_count": 25,
     "metadata": {},
     "output_type": "execute_result"
    }
   ],
   "source": [
    "regpoly.fit(Xp_train, yp_train)"
   ]
  },
  {
   "cell_type": "code",
   "execution_count": 26,
   "id": "309def6e-378b-4d0a-85ff-c89c3049cb1a",
   "metadata": {},
   "outputs": [
    {
     "data": {
      "text/plain": [
       "87.06106955251003"
      ]
     },
     "execution_count": 26,
     "metadata": {},
     "output_type": "execute_result"
    }
   ],
   "source": [
    "regpoly.intercept_"
   ]
  },
  {
   "cell_type": "code",
   "execution_count": 27,
   "id": "e100e61e-7fca-441a-98c9-1c629b20f418",
   "metadata": {},
   "outputs": [
    {
     "data": {
      "text/plain": [
       "array([  0.        , -15.6376502 ,   1.05169852])"
      ]
     },
     "execution_count": 27,
     "metadata": {},
     "output_type": "execute_result"
    }
   ],
   "source": [
    "regpoly.coef_"
   ]
  },
  {
   "cell_type": "code",
   "execution_count": 28,
   "id": "389118c7-d02b-4439-a83e-7f59d823e897",
   "metadata": {},
   "outputs": [
    {
     "data": {
      "text/plain": [
       "Text(0.5, 1.0, 'Unit Cost vs. Number of Units [in Millions](Training dataset)')"
      ]
     },
     "execution_count": 28,
     "metadata": {},
     "output_type": "execute_result"
    },
    {
     "data": {
      "image/png": "[encoded data removed]",
      "text/plain": [
       "<Figure size 640x480 with 1 Axes>"
      ]
     },
     "metadata": {},
     "output_type": "display_data"
    }
   ],
   "source": [
    "fig,ax = plt.subplots()\n",
    "ax.scatter(X_train, y_train, color = 'red')\n",
    "ax.scatter(X_train, regpoly.predict(Xp_train), color = 'blue')\n",
    "ax.set_ylabel('Cost Per Unit Sold [dollars]')\n",
    "ax.set_xlabel('Number of Units [in Millions]')\n",
    "ax.set_title('Unit Cost vs. Number of Units [in Millions](Training dataset)')"
   ]
  },
  {
   "cell_type": "code",
   "execution_count": 29,
   "id": "35e77de6-3747-452c-9c2e-0287ce05aea2",
   "metadata": {},
   "outputs": [],
   "source": [
    "# predict\n",
    "yp_pred= regpoly.predict(Xp_test)"
   ]
  },
  {
   "cell_type": "code",
   "execution_count": 30,
   "id": "48defa68-9775-4959-89b7-f0f23d79a78d",
   "metadata": {},
   "outputs": [],
   "source": [
    "from sklearn.metrics import r2_score, mean_absolute_percentage_error"
   ]
  },
  {
   "cell_type": "code",
   "execution_count": 32,
   "id": "1891fac8-80f3-411c-9959-f68ad801ab85",
   "metadata": {},
   "outputs": [
    {
     "data": {
      "text/plain": [
       "0.11240980317267292"
      ]
     },
     "execution_count": 32,
     "metadata": {},
     "output_type": "execute_result"
    }
   ],
   "source": [
    "mean_absolute_percentage_error(yp_test, yp_pred)"
   ]
  },
  {
   "cell_type": "code",
   "execution_count": 33,
   "id": "b1f350ae-62e2-4479-a83a-93c774819fa2",
   "metadata": {},
   "outputs": [
    {
     "data": {
      "text/plain": [
       "0.7139804293852907"
      ]
     },
     "execution_count": 33,
     "metadata": {},
     "output_type": "execute_result"
    }
   ],
   "source": [
    "r2_score(yp_test, yp_pred)"
   ]
  },
  {
   "cell_type": "code",
   "execution_count": 35,
   "id": "fecfe292-f964-4c58-b803-c4a64ae6a08c",
   "metadata": {},
   "outputs": [
    {
     "data": {
      "text/plain": [
       "Units     75\n",
       "Cost     349\n",
       "dtype: int64"
      ]
     },
     "execution_count": 35,
     "metadata": {},
     "output_type": "execute_result"
    }
   ],
   "source": [
    "economicofscale.nunique()"
   ]
  },
  {
   "cell_type": "code",
   "execution_count": 36,
   "id": "733d0d77-a043-462f-aee0-0248bb2bb430",
   "metadata": {},
   "outputs": [
    {
     "data": {
      "text/html": [
       "<div>\n",
       "<style scoped>\n",
       "    .dataframe tbody tr th:only-of-type {\n",
       "        vertical-align: middle;\n",
       "    }\n",
       "\n",
       "    .dataframe tbody tr th {\n",
       "        vertical-align: top;\n",
       "    }\n",
       "\n",
       "    .dataframe thead th {\n",
       "        text-align: right;\n",
       "    }\n",
       "</style>\n",
       "<table border=\"1\" class=\"dataframe\">\n",
       "  <thead>\n",
       "    <tr style=\"text-align: right;\">\n",
       "      <th></th>\n",
       "      <th>Units</th>\n",
       "      <th>Cost</th>\n",
       "    </tr>\n",
       "  </thead>\n",
       "  <tbody>\n",
       "    <tr>\n",
       "      <th>Units</th>\n",
       "      <td>1.000000</td>\n",
       "      <td>-0.760637</td>\n",
       "    </tr>\n",
       "    <tr>\n",
       "      <th>Cost</th>\n",
       "      <td>-0.760637</td>\n",
       "      <td>1.000000</td>\n",
       "    </tr>\n",
       "  </tbody>\n",
       "</table>\n",
       "</div>"
      ],
      "text/plain": [
       "          Units      Cost\n",
       "Units  1.000000 -0.760637\n",
       "Cost  -0.760637  1.000000"
      ]
     },
     "execution_count": 36,
     "metadata": {},
     "output_type": "execute_result"
    }
   ],
   "source": [
    "economicofscale.corr()"
   ]
  },
  {
   "cell_type": "code",
   "execution_count": 37,
   "id": "454a53fe-d6e9-45b5-a0f1-02cd29f071b9",
   "metadata": {},
   "outputs": [],
   "source": [
    "from sklearn.preprocessing import StandardScaler"
   ]
  },
  {
   "cell_type": "code",
   "execution_count": 38,
   "id": "0650158c-29cc-40e1-b653-1b36e489f6bf",
   "metadata": {},
   "outputs": [],
   "source": [
    "ss = StandardScaler()"
   ]
  },
  {
   "cell_type": "code",
   "execution_count": 39,
   "id": "1ea4f696-1e31-4e98-bb8b-c20dd2aee1e3",
   "metadata": {},
   "outputs": [],
   "source": [
    "X = ss.fit_transform(X)"
   ]
  },
  {
   "cell_type": "code",
   "execution_count": 40,
   "id": "8f5ac929-d719-479c-9dbb-32fdbf3efddd",
   "metadata": {},
   "outputs": [
    {
     "data": {
      "text/plain": [
       "array([[-2.59887828],\n",
       "       [-2.44915175],\n",
       "       [-2.44915175],\n",
       "       [-2.44915175],\n",
       "       [-2.37428848],\n",
       "       [-2.37428848],\n",
       "       [-2.37428848],\n",
       "       [-2.29942522],\n",
       "       [-2.29942522],\n",
       "       [-2.22456195],\n",
       "       [-2.22456195],\n",
       "       [-2.14969868],\n",
       "       [-2.14969868],\n",
       "       [-2.14969868],\n",
       "       [-2.07483542],\n",
       "       [-2.07483542],\n",
       "       [-2.07483542],\n",
       "       [-2.07483542],\n",
       "       [-1.99997215],\n",
       "       [-1.99997215],\n",
       "       [-1.99997215],\n",
       "       [-1.99997215],\n",
       "       [-1.99997215],\n",
       "       [-1.99997215],\n",
       "       [-1.99997215],\n",
       "       [-1.99997215],\n",
       "       [-1.99997215],\n",
       "       [-1.99997215],\n",
       "       [-1.99997215],\n",
       "       [-1.92510889],\n",
       "       [-1.92510889],\n",
       "       [-1.92510889],\n",
       "       [-1.92510889],\n",
       "       [-1.85024562],\n",
       "       [-1.85024562],\n",
       "       [-1.85024562],\n",
       "       [-1.77538235],\n",
       "       [-1.77538235],\n",
       "       [-1.77538235],\n",
       "       [-1.77538235],\n",
       "       [-1.77538235],\n",
       "       [-1.77538235],\n",
       "       [-1.77538235],\n",
       "       [-1.70051909],\n",
       "       [-1.70051909],\n",
       "       [-1.70051909],\n",
       "       [-1.70051909],\n",
       "       [-1.70051909],\n",
       "       [-1.70051909],\n",
       "       [-1.62565582],\n",
       "       [-1.62565582],\n",
       "       [-1.62565582],\n",
       "       [-1.62565582],\n",
       "       [-1.62565582],\n",
       "       [-1.62565582],\n",
       "       [-1.62565582],\n",
       "       [-1.62565582],\n",
       "       [-1.55079256],\n",
       "       [-1.55079256],\n",
       "       [-1.55079256],\n",
       "       [-1.55079256],\n",
       "       [-1.55079256],\n",
       "       [-1.55079256],\n",
       "       [-1.47592929],\n",
       "       [-1.47592929],\n",
       "       [-1.47592929],\n",
       "       [-1.47592929],\n",
       "       [-1.47592929],\n",
       "       [-1.47592929],\n",
       "       [-1.47592929],\n",
       "       [-1.40106602],\n",
       "       [-1.40106602],\n",
       "       [-1.40106602],\n",
       "       [-1.40106602],\n",
       "       [-1.40106602],\n",
       "       [-1.40106602],\n",
       "       [-1.40106602],\n",
       "       [-1.40106602],\n",
       "       [-1.40106602],\n",
       "       [-1.40106602],\n",
       "       [-1.40106602],\n",
       "       [-1.40106602],\n",
       "       [-1.32620276],\n",
       "       [-1.32620276],\n",
       "       [-1.32620276],\n",
       "       [-1.32620276],\n",
       "       [-1.32620276],\n",
       "       [-1.32620276],\n",
       "       [-1.32620276],\n",
       "       [-1.32620276],\n",
       "       [-1.32620276],\n",
       "       [-1.32620276],\n",
       "       [-1.32620276],\n",
       "       [-1.25133949],\n",
       "       [-1.25133949],\n",
       "       [-1.25133949],\n",
       "       [-1.25133949],\n",
       "       [-1.25133949],\n",
       "       [-1.25133949],\n",
       "       [-1.25133949],\n",
       "       [-1.25133949],\n",
       "       [-1.25133949],\n",
       "       [-1.25133949],\n",
       "       [-1.25133949],\n",
       "       [-1.25133949],\n",
       "       [-1.25133949],\n",
       "       [-1.25133949],\n",
       "       [-1.25133949],\n",
       "       [-1.17647623],\n",
       "       [-1.17647623],\n",
       "       [-1.17647623],\n",
       "       [-1.17647623],\n",
       "       [-1.17647623],\n",
       "       [-1.17647623],\n",
       "       [-1.17647623],\n",
       "       [-1.17647623],\n",
       "       [-1.17647623],\n",
       "       [-1.17647623],\n",
       "       [-1.17647623],\n",
       "       [-1.17647623],\n",
       "       [-1.17647623],\n",
       "       [-1.17647623],\n",
       "       [-1.17647623],\n",
       "       [-1.17647623],\n",
       "       [-1.10161296],\n",
       "       [-1.10161296],\n",
       "       [-1.10161296],\n",
       "       [-1.10161296],\n",
       "       [-1.10161296],\n",
       "       [-1.10161296],\n",
       "       [-1.10161296],\n",
       "       [-1.10161296],\n",
       "       [-1.10161296],\n",
       "       [-1.10161296],\n",
       "       [-1.10161296],\n",
       "       [-1.10161296],\n",
       "       [-1.10161296],\n",
       "       [-1.02674969],\n",
       "       [-1.02674969],\n",
       "       [-1.02674969],\n",
       "       [-1.02674969],\n",
       "       [-1.02674969],\n",
       "       [-1.02674969],\n",
       "       [-1.02674969],\n",
       "       [-1.02674969],\n",
       "       [-1.02674969],\n",
       "       [-1.02674969],\n",
       "       [-1.02674969],\n",
       "       [-1.02674969],\n",
       "       [-1.02674969],\n",
       "       [-1.02674969],\n",
       "       [-1.02674969],\n",
       "       [-1.02674969],\n",
       "       [-1.02674969],\n",
       "       [-1.02674969],\n",
       "       [-1.02674969],\n",
       "       [-1.02674969],\n",
       "       [-1.02674969],\n",
       "       [-1.02674969],\n",
       "       [-1.02674969],\n",
       "       [-1.02674969],\n",
       "       [-1.02674969],\n",
       "       [-1.02674969],\n",
       "       [-1.02674969],\n",
       "       [-0.95188643],\n",
       "       [-0.95188643],\n",
       "       [-0.95188643],\n",
       "       [-0.95188643],\n",
       "       [-0.95188643],\n",
       "       [-0.95188643],\n",
       "       [-0.95188643],\n",
       "       [-0.95188643],\n",
       "       [-0.95188643],\n",
       "       [-0.95188643],\n",
       "       [-0.95188643],\n",
       "       [-0.95188643],\n",
       "       [-0.95188643],\n",
       "       [-0.95188643],\n",
       "       [-0.95188643],\n",
       "       [-0.95188643],\n",
       "       [-0.95188643],\n",
       "       [-0.95188643],\n",
       "       [-0.95188643],\n",
       "       [-0.95188643],\n",
       "       [-0.87702316],\n",
       "       [-0.87702316],\n",
       "       [-0.87702316],\n",
       "       [-0.87702316],\n",
       "       [-0.87702316],\n",
       "       [-0.87702316],\n",
       "       [-0.87702316],\n",
       "       [-0.87702316],\n",
       "       [-0.87702316],\n",
       "       [-0.87702316],\n",
       "       [-0.87702316],\n",
       "       [-0.87702316],\n",
       "       [-0.87702316],\n",
       "       [-0.87702316],\n",
       "       [-0.87702316],\n",
       "       [-0.87702316],\n",
       "       [-0.87702316],\n",
       "       [-0.87702316],\n",
       "       [-0.87702316],\n",
       "       [-0.87702316],\n",
       "       [-0.87702316],\n",
       "       [-0.8021599 ],\n",
       "       [-0.8021599 ],\n",
       "       [-0.8021599 ],\n",
       "       [-0.8021599 ],\n",
       "       [-0.8021599 ],\n",
       "       [-0.8021599 ],\n",
       "       [-0.8021599 ],\n",
       "       [-0.8021599 ],\n",
       "       [-0.8021599 ],\n",
       "       [-0.8021599 ],\n",
       "       [-0.8021599 ],\n",
       "       [-0.8021599 ],\n",
       "       [-0.8021599 ],\n",
       "       [-0.8021599 ],\n",
       "       [-0.8021599 ],\n",
       "       [-0.8021599 ],\n",
       "       [-0.8021599 ],\n",
       "       [-0.8021599 ],\n",
       "       [-0.8021599 ],\n",
       "       [-0.8021599 ],\n",
       "       [-0.8021599 ],\n",
       "       [-0.8021599 ],\n",
       "       [-0.8021599 ],\n",
       "       [-0.8021599 ],\n",
       "       [-0.8021599 ],\n",
       "       [-0.8021599 ],\n",
       "       [-0.72729663],\n",
       "       [-0.72729663],\n",
       "       [-0.72729663],\n",
       "       [-0.72729663],\n",
       "       [-0.72729663],\n",
       "       [-0.72729663],\n",
       "       [-0.72729663],\n",
       "       [-0.72729663],\n",
       "       [-0.72729663],\n",
       "       [-0.72729663],\n",
       "       [-0.72729663],\n",
       "       [-0.65243336],\n",
       "       [-0.65243336],\n",
       "       [-0.65243336],\n",
       "       [-0.65243336],\n",
       "       [-0.65243336],\n",
       "       [-0.65243336],\n",
       "       [-0.65243336],\n",
       "       [-0.65243336],\n",
       "       [-0.65243336],\n",
       "       [-0.65243336],\n",
       "       [-0.65243336],\n",
       "       [-0.65243336],\n",
       "       [-0.65243336],\n",
       "       [-0.65243336],\n",
       "       [-0.65243336],\n",
       "       [-0.65243336],\n",
       "       [-0.65243336],\n",
       "       [-0.65243336],\n",
       "       [-0.65243336],\n",
       "       [-0.65243336],\n",
       "       [-0.5775701 ],\n",
       "       [-0.5775701 ],\n",
       "       [-0.5775701 ],\n",
       "       [-0.5775701 ],\n",
       "       [-0.5775701 ],\n",
       "       [-0.5775701 ],\n",
       "       [-0.5775701 ],\n",
       "       [-0.5775701 ],\n",
       "       [-0.5775701 ],\n",
       "       [-0.5775701 ],\n",
       "       [-0.5775701 ],\n",
       "       [-0.5775701 ],\n",
       "       [-0.5775701 ],\n",
       "       [-0.5775701 ],\n",
       "       [-0.5775701 ],\n",
       "       [-0.5775701 ],\n",
       "       [-0.5775701 ],\n",
       "       [-0.5775701 ],\n",
       "       [-0.5775701 ],\n",
       "       [-0.5775701 ],\n",
       "       [-0.5775701 ],\n",
       "       [-0.5775701 ],\n",
       "       [-0.5775701 ],\n",
       "       [-0.5775701 ],\n",
       "       [-0.5775701 ],\n",
       "       [-0.5775701 ],\n",
       "       [-0.5775701 ],\n",
       "       [-0.5775701 ],\n",
       "       [-0.5775701 ],\n",
       "       [-0.50270683],\n",
       "       [-0.50270683],\n",
       "       [-0.50270683],\n",
       "       [-0.50270683],\n",
       "       [-0.50270683],\n",
       "       [-0.50270683],\n",
       "       [-0.50270683],\n",
       "       [-0.50270683],\n",
       "       [-0.50270683],\n",
       "       [-0.50270683],\n",
       "       [-0.50270683],\n",
       "       [-0.50270683],\n",
       "       [-0.50270683],\n",
       "       [-0.50270683],\n",
       "       [-0.50270683],\n",
       "       [-0.50270683],\n",
       "       [-0.50270683],\n",
       "       [-0.50270683],\n",
       "       [-0.50270683],\n",
       "       [-0.50270683],\n",
       "       [-0.50270683],\n",
       "       [-0.50270683],\n",
       "       [-0.50270683],\n",
       "       [-0.50270683],\n",
       "       [-0.42784357],\n",
       "       [-0.42784357],\n",
       "       [-0.42784357],\n",
       "       [-0.42784357],\n",
       "       [-0.42784357],\n",
       "       [-0.42784357],\n",
       "       [-0.42784357],\n",
       "       [-0.42784357],\n",
       "       [-0.42784357],\n",
       "       [-0.42784357],\n",
       "       [-0.42784357],\n",
       "       [-0.42784357],\n",
       "       [-0.42784357],\n",
       "       [-0.42784357],\n",
       "       [-0.42784357],\n",
       "       [-0.42784357],\n",
       "       [-0.42784357],\n",
       "       [-0.42784357],\n",
       "       [-0.42784357],\n",
       "       [-0.42784357],\n",
       "       [-0.42784357],\n",
       "       [-0.42784357],\n",
       "       [-0.42784357],\n",
       "       [-0.42784357],\n",
       "       [-0.42784357],\n",
       "       [-0.42784357],\n",
       "       [-0.42784357],\n",
       "       [-0.3529803 ],\n",
       "       [-0.3529803 ],\n",
       "       [-0.3529803 ],\n",
       "       [-0.3529803 ],\n",
       "       [-0.3529803 ],\n",
       "       [-0.3529803 ],\n",
       "       [-0.3529803 ],\n",
       "       [-0.3529803 ],\n",
       "       [-0.3529803 ],\n",
       "       [-0.3529803 ],\n",
       "       [-0.3529803 ],\n",
       "       [-0.3529803 ],\n",
       "       [-0.3529803 ],\n",
       "       [-0.3529803 ],\n",
       "       [-0.3529803 ],\n",
       "       [-0.3529803 ],\n",
       "       [-0.3529803 ],\n",
       "       [-0.3529803 ],\n",
       "       [-0.3529803 ],\n",
       "       [-0.3529803 ],\n",
       "       [-0.3529803 ],\n",
       "       [-0.3529803 ],\n",
       "       [-0.3529803 ],\n",
       "       [-0.3529803 ],\n",
       "       [-0.3529803 ],\n",
       "       [-0.3529803 ],\n",
       "       [-0.27811703],\n",
       "       [-0.27811703],\n",
       "       [-0.27811703],\n",
       "       [-0.27811703],\n",
       "       [-0.27811703],\n",
       "       [-0.27811703],\n",
       "       [-0.27811703],\n",
       "       [-0.27811703],\n",
       "       [-0.27811703],\n",
       "       [-0.27811703],\n",
       "       [-0.27811703],\n",
       "       [-0.27811703],\n",
       "       [-0.27811703],\n",
       "       [-0.27811703],\n",
       "       [-0.27811703],\n",
       "       [-0.27811703],\n",
       "       [-0.27811703],\n",
       "       [-0.27811703],\n",
       "       [-0.27811703],\n",
       "       [-0.27811703],\n",
       "       [-0.27811703],\n",
       "       [-0.27811703],\n",
       "       [-0.27811703],\n",
       "       [-0.27811703],\n",
       "       [-0.27811703],\n",
       "       [-0.27811703],\n",
       "       [-0.27811703],\n",
       "       [-0.27811703],\n",
       "       [-0.27811703],\n",
       "       [-0.27811703],\n",
       "       [-0.27811703],\n",
       "       [-0.27811703],\n",
       "       [-0.27811703],\n",
       "       [-0.27811703],\n",
       "       [-0.27811703],\n",
       "       [-0.27811703],\n",
       "       [-0.20325377],\n",
       "       [-0.20325377],\n",
       "       [-0.20325377],\n",
       "       [-0.20325377],\n",
       "       [-0.20325377],\n",
       "       [-0.20325377],\n",
       "       [-0.20325377],\n",
       "       [-0.20325377],\n",
       "       [-0.20325377],\n",
       "       [-0.20325377],\n",
       "       [-0.20325377],\n",
       "       [-0.20325377],\n",
       "       [-0.20325377],\n",
       "       [-0.20325377],\n",
       "       [-0.20325377],\n",
       "       [-0.20325377],\n",
       "       [-0.20325377],\n",
       "       [-0.20325377],\n",
       "       [-0.20325377],\n",
       "       [-0.20325377],\n",
       "       [-0.20325377],\n",
       "       [-0.20325377],\n",
       "       [-0.20325377],\n",
       "       [-0.20325377],\n",
       "       [-0.20325377],\n",
       "       [-0.20325377],\n",
       "       [-0.20325377],\n",
       "       [-0.20325377],\n",
       "       [-0.20325377],\n",
       "       [-0.20325377],\n",
       "       [-0.20325377],\n",
       "       [-0.20325377],\n",
       "       [-0.20325377],\n",
       "       [-0.20325377],\n",
       "       [-0.20325377],\n",
       "       [-0.20325377],\n",
       "       [-0.1283905 ],\n",
       "       [-0.1283905 ],\n",
       "       [-0.1283905 ],\n",
       "       [-0.1283905 ],\n",
       "       [-0.1283905 ],\n",
       "       [-0.1283905 ],\n",
       "       [-0.1283905 ],\n",
       "       [-0.1283905 ],\n",
       "       [-0.1283905 ],\n",
       "       [-0.1283905 ],\n",
       "       [-0.1283905 ],\n",
       "       [-0.1283905 ],\n",
       "       [-0.1283905 ],\n",
       "       [-0.1283905 ],\n",
       "       [-0.1283905 ],\n",
       "       [-0.1283905 ],\n",
       "       [-0.1283905 ],\n",
       "       [-0.1283905 ],\n",
       "       [-0.1283905 ],\n",
       "       [-0.1283905 ],\n",
       "       [-0.1283905 ],\n",
       "       [-0.1283905 ],\n",
       "       [-0.1283905 ],\n",
       "       [-0.1283905 ],\n",
       "       [-0.1283905 ],\n",
       "       [-0.1283905 ],\n",
       "       [-0.1283905 ],\n",
       "       [-0.1283905 ],\n",
       "       [-0.1283905 ],\n",
       "       [-0.1283905 ],\n",
       "       [-0.1283905 ],\n",
       "       [-0.1283905 ],\n",
       "       [-0.1283905 ],\n",
       "       [-0.1283905 ],\n",
       "       [-0.1283905 ],\n",
       "       [-0.1283905 ],\n",
       "       [-0.1283905 ],\n",
       "       [-0.1283905 ],\n",
       "       [-0.1283905 ],\n",
       "       [-0.05352724],\n",
       "       [-0.05352724],\n",
       "       [-0.05352724],\n",
       "       [-0.05352724],\n",
       "       [-0.05352724],\n",
       "       [-0.05352724],\n",
       "       [-0.05352724],\n",
       "       [-0.05352724],\n",
       "       [-0.05352724],\n",
       "       [-0.05352724],\n",
       "       [-0.05352724],\n",
       "       [-0.05352724],\n",
       "       [-0.05352724],\n",
       "       [-0.05352724],\n",
       "       [-0.05352724],\n",
       "       [-0.05352724],\n",
       "       [-0.05352724],\n",
       "       [-0.05352724],\n",
       "       [-0.05352724],\n",
       "       [-0.05352724],\n",
       "       [-0.05352724],\n",
       "       [-0.05352724],\n",
       "       [-0.05352724],\n",
       "       [-0.05352724],\n",
       "       [-0.05352724],\n",
       "       [-0.05352724],\n",
       "       [ 0.02133603],\n",
       "       [ 0.02133603],\n",
       "       [ 0.02133603],\n",
       "       [ 0.02133603],\n",
       "       [ 0.02133603],\n",
       "       [ 0.02133603],\n",
       "       [ 0.02133603],\n",
       "       [ 0.02133603],\n",
       "       [ 0.02133603],\n",
       "       [ 0.02133603],\n",
       "       [ 0.02133603],\n",
       "       [ 0.02133603],\n",
       "       [ 0.02133603],\n",
       "       [ 0.02133603],\n",
       "       [ 0.02133603],\n",
       "       [ 0.02133603],\n",
       "       [ 0.02133603],\n",
       "       [ 0.02133603],\n",
       "       [ 0.02133603],\n",
       "       [ 0.02133603],\n",
       "       [ 0.02133603],\n",
       "       [ 0.02133603],\n",
       "       [ 0.02133603],\n",
       "       [ 0.02133603],\n",
       "       [ 0.02133603],\n",
       "       [ 0.02133603],\n",
       "       [ 0.02133603],\n",
       "       [ 0.02133603],\n",
       "       [ 0.02133603],\n",
       "       [ 0.02133603],\n",
       "       [ 0.02133603],\n",
       "       [ 0.02133603],\n",
       "       [ 0.02133603],\n",
       "       [ 0.0961993 ],\n",
       "       [ 0.0961993 ],\n",
       "       [ 0.0961993 ],\n",
       "       [ 0.0961993 ],\n",
       "       [ 0.0961993 ],\n",
       "       [ 0.0961993 ],\n",
       "       [ 0.0961993 ],\n",
       "       [ 0.0961993 ],\n",
       "       [ 0.0961993 ],\n",
       "       [ 0.0961993 ],\n",
       "       [ 0.0961993 ],\n",
       "       [ 0.0961993 ],\n",
       "       [ 0.0961993 ],\n",
       "       [ 0.0961993 ],\n",
       "       [ 0.0961993 ],\n",
       "       [ 0.0961993 ],\n",
       "       [ 0.0961993 ],\n",
       "       [ 0.0961993 ],\n",
       "       [ 0.0961993 ],\n",
       "       [ 0.0961993 ],\n",
       "       [ 0.0961993 ],\n",
       "       [ 0.0961993 ],\n",
       "       [ 0.0961993 ],\n",
       "       [ 0.0961993 ],\n",
       "       [ 0.0961993 ],\n",
       "       [ 0.0961993 ],\n",
       "       [ 0.0961993 ],\n",
       "       [ 0.0961993 ],\n",
       "       [ 0.0961993 ],\n",
       "       [ 0.0961993 ],\n",
       "       [ 0.17106256],\n",
       "       [ 0.17106256],\n",
       "       [ 0.17106256],\n",
       "       [ 0.17106256],\n",
       "       [ 0.17106256],\n",
       "       [ 0.17106256],\n",
       "       [ 0.17106256],\n",
       "       [ 0.17106256],\n",
       "       [ 0.17106256],\n",
       "       [ 0.17106256],\n",
       "       [ 0.17106256],\n",
       "       [ 0.17106256],\n",
       "       [ 0.17106256],\n",
       "       [ 0.17106256],\n",
       "       [ 0.17106256],\n",
       "       [ 0.17106256],\n",
       "       [ 0.17106256],\n",
       "       [ 0.17106256],\n",
       "       [ 0.17106256],\n",
       "       [ 0.17106256],\n",
       "       [ 0.17106256],\n",
       "       [ 0.17106256],\n",
       "       [ 0.17106256],\n",
       "       [ 0.17106256],\n",
       "       [ 0.17106256],\n",
       "       [ 0.24592583],\n",
       "       [ 0.24592583],\n",
       "       [ 0.24592583],\n",
       "       [ 0.24592583],\n",
       "       [ 0.24592583],\n",
       "       [ 0.24592583],\n",
       "       [ 0.24592583],\n",
       "       [ 0.24592583],\n",
       "       [ 0.24592583],\n",
       "       [ 0.24592583],\n",
       "       [ 0.24592583],\n",
       "       [ 0.24592583],\n",
       "       [ 0.24592583],\n",
       "       [ 0.24592583],\n",
       "       [ 0.24592583],\n",
       "       [ 0.24592583],\n",
       "       [ 0.3207891 ],\n",
       "       [ 0.3207891 ],\n",
       "       [ 0.3207891 ],\n",
       "       [ 0.3207891 ],\n",
       "       [ 0.3207891 ],\n",
       "       [ 0.3207891 ],\n",
       "       [ 0.3207891 ],\n",
       "       [ 0.3207891 ],\n",
       "       [ 0.3207891 ],\n",
       "       [ 0.3207891 ],\n",
       "       [ 0.3207891 ],\n",
       "       [ 0.3207891 ],\n",
       "       [ 0.3207891 ],\n",
       "       [ 0.3207891 ],\n",
       "       [ 0.3207891 ],\n",
       "       [ 0.3207891 ],\n",
       "       [ 0.3207891 ],\n",
       "       [ 0.3207891 ],\n",
       "       [ 0.3207891 ],\n",
       "       [ 0.3207891 ],\n",
       "       [ 0.3207891 ],\n",
       "       [ 0.3207891 ],\n",
       "       [ 0.3207891 ],\n",
       "       [ 0.3207891 ],\n",
       "       [ 0.3207891 ],\n",
       "       [ 0.39565236],\n",
       "       [ 0.39565236],\n",
       "       [ 0.39565236],\n",
       "       [ 0.39565236],\n",
       "       [ 0.39565236],\n",
       "       [ 0.39565236],\n",
       "       [ 0.39565236],\n",
       "       [ 0.39565236],\n",
       "       [ 0.39565236],\n",
       "       [ 0.39565236],\n",
       "       [ 0.39565236],\n",
       "       [ 0.39565236],\n",
       "       [ 0.39565236],\n",
       "       [ 0.39565236],\n",
       "       [ 0.39565236],\n",
       "       [ 0.39565236],\n",
       "       [ 0.39565236],\n",
       "       [ 0.39565236],\n",
       "       [ 0.39565236],\n",
       "       [ 0.39565236],\n",
       "       [ 0.39565236],\n",
       "       [ 0.39565236],\n",
       "       [ 0.39565236],\n",
       "       [ 0.39565236],\n",
       "       [ 0.39565236],\n",
       "       [ 0.39565236],\n",
       "       [ 0.39565236],\n",
       "       [ 0.39565236],\n",
       "       [ 0.39565236],\n",
       "       [ 0.39565236],\n",
       "       [ 0.39565236],\n",
       "       [ 0.39565236],\n",
       "       [ 0.39565236],\n",
       "       [ 0.39565236],\n",
       "       [ 0.39565236],\n",
       "       [ 0.39565236],\n",
       "       [ 0.39565236],\n",
       "       [ 0.47051563],\n",
       "       [ 0.47051563],\n",
       "       [ 0.47051563],\n",
       "       [ 0.47051563],\n",
       "       [ 0.47051563],\n",
       "       [ 0.47051563],\n",
       "       [ 0.47051563],\n",
       "       [ 0.47051563],\n",
       "       [ 0.47051563],\n",
       "       [ 0.47051563],\n",
       "       [ 0.47051563],\n",
       "       [ 0.47051563],\n",
       "       [ 0.47051563],\n",
       "       [ 0.47051563],\n",
       "       [ 0.47051563],\n",
       "       [ 0.47051563],\n",
       "       [ 0.47051563],\n",
       "       [ 0.47051563],\n",
       "       [ 0.47051563],\n",
       "       [ 0.47051563],\n",
       "       [ 0.47051563],\n",
       "       [ 0.47051563],\n",
       "       [ 0.47051563],\n",
       "       [ 0.47051563],\n",
       "       [ 0.47051563],\n",
       "       [ 0.47051563],\n",
       "       [ 0.47051563],\n",
       "       [ 0.47051563],\n",
       "       [ 0.47051563],\n",
       "       [ 0.47051563],\n",
       "       [ 0.47051563],\n",
       "       [ 0.54537889],\n",
       "       [ 0.54537889],\n",
       "       [ 0.54537889],\n",
       "       [ 0.54537889],\n",
       "       [ 0.54537889],\n",
       "       [ 0.54537889],\n",
       "       [ 0.54537889],\n",
       "       [ 0.54537889],\n",
       "       [ 0.54537889],\n",
       "       [ 0.54537889],\n",
       "       [ 0.54537889],\n",
       "       [ 0.54537889],\n",
       "       [ 0.54537889],\n",
       "       [ 0.54537889],\n",
       "       [ 0.54537889],\n",
       "       [ 0.54537889],\n",
       "       [ 0.54537889],\n",
       "       [ 0.54537889],\n",
       "       [ 0.54537889],\n",
       "       [ 0.54537889],\n",
       "       [ 0.54537889],\n",
       "       [ 0.54537889],\n",
       "       [ 0.54537889],\n",
       "       [ 0.62024216],\n",
       "       [ 0.62024216],\n",
       "       [ 0.62024216],\n",
       "       [ 0.62024216],\n",
       "       [ 0.62024216],\n",
       "       [ 0.62024216],\n",
       "       [ 0.62024216],\n",
       "       [ 0.62024216],\n",
       "       [ 0.62024216],\n",
       "       [ 0.62024216],\n",
       "       [ 0.62024216],\n",
       "       [ 0.62024216],\n",
       "       [ 0.62024216],\n",
       "       [ 0.62024216],\n",
       "       [ 0.62024216],\n",
       "       [ 0.62024216],\n",
       "       [ 0.62024216],\n",
       "       [ 0.62024216],\n",
       "       [ 0.62024216],\n",
       "       [ 0.62024216],\n",
       "       [ 0.62024216],\n",
       "       [ 0.62024216],\n",
       "       [ 0.62024216],\n",
       "       [ 0.62024216],\n",
       "       [ 0.62024216],\n",
       "       [ 0.62024216],\n",
       "       [ 0.62024216],\n",
       "       [ 0.62024216],\n",
       "       [ 0.62024216],\n",
       "       [ 0.62024216],\n",
       "       [ 0.62024216],\n",
       "       [ 0.62024216],\n",
       "       [ 0.62024216],\n",
       "       [ 0.69510543],\n",
       "       [ 0.69510543],\n",
       "       [ 0.69510543],\n",
       "       [ 0.69510543],\n",
       "       [ 0.69510543],\n",
       "       [ 0.69510543],\n",
       "       [ 0.69510543],\n",
       "       [ 0.69510543],\n",
       "       [ 0.69510543],\n",
       "       [ 0.69510543],\n",
       "       [ 0.69510543],\n",
       "       [ 0.69510543],\n",
       "       [ 0.69510543],\n",
       "       [ 0.69510543],\n",
       "       [ 0.69510543],\n",
       "       [ 0.69510543],\n",
       "       [ 0.76996869],\n",
       "       [ 0.76996869],\n",
       "       [ 0.76996869],\n",
       "       [ 0.76996869],\n",
       "       [ 0.76996869],\n",
       "       [ 0.76996869],\n",
       "       [ 0.76996869],\n",
       "       [ 0.76996869],\n",
       "       [ 0.76996869],\n",
       "       [ 0.76996869],\n",
       "       [ 0.76996869],\n",
       "       [ 0.76996869],\n",
       "       [ 0.76996869],\n",
       "       [ 0.76996869],\n",
       "       [ 0.76996869],\n",
       "       [ 0.76996869],\n",
       "       [ 0.76996869],\n",
       "       [ 0.76996869],\n",
       "       [ 0.76996869],\n",
       "       [ 0.76996869],\n",
       "       [ 0.76996869],\n",
       "       [ 0.76996869],\n",
       "       [ 0.76996869],\n",
       "       [ 0.76996869],\n",
       "       [ 0.76996869],\n",
       "       [ 0.76996869],\n",
       "       [ 0.76996869],\n",
       "       [ 0.76996869],\n",
       "       [ 0.84483196],\n",
       "       [ 0.84483196],\n",
       "       [ 0.84483196],\n",
       "       [ 0.84483196],\n",
       "       [ 0.84483196],\n",
       "       [ 0.84483196],\n",
       "       [ 0.84483196],\n",
       "       [ 0.84483196],\n",
       "       [ 0.84483196],\n",
       "       [ 0.84483196],\n",
       "       [ 0.84483196],\n",
       "       [ 0.84483196],\n",
       "       [ 0.84483196],\n",
       "       [ 0.84483196],\n",
       "       [ 0.84483196],\n",
       "       [ 0.84483196],\n",
       "       [ 0.84483196],\n",
       "       [ 0.84483196],\n",
       "       [ 0.84483196],\n",
       "       [ 0.84483196],\n",
       "       [ 0.84483196],\n",
       "       [ 0.84483196],\n",
       "       [ 0.84483196],\n",
       "       [ 0.84483196],\n",
       "       [ 0.84483196],\n",
       "       [ 0.84483196],\n",
       "       [ 0.84483196],\n",
       "       [ 0.91969522],\n",
       "       [ 0.91969522],\n",
       "       [ 0.91969522],\n",
       "       [ 0.91969522],\n",
       "       [ 0.91969522],\n",
       "       [ 0.91969522],\n",
       "       [ 0.91969522],\n",
       "       [ 0.91969522],\n",
       "       [ 0.91969522],\n",
       "       [ 0.91969522],\n",
       "       [ 0.91969522],\n",
       "       [ 0.91969522],\n",
       "       [ 0.91969522],\n",
       "       [ 0.91969522],\n",
       "       [ 0.91969522],\n",
       "       [ 0.91969522],\n",
       "       [ 0.91969522],\n",
       "       [ 0.91969522],\n",
       "       [ 0.91969522],\n",
       "       [ 0.99455849],\n",
       "       [ 0.99455849],\n",
       "       [ 0.99455849],\n",
       "       [ 0.99455849],\n",
       "       [ 0.99455849],\n",
       "       [ 0.99455849],\n",
       "       [ 0.99455849],\n",
       "       [ 0.99455849],\n",
       "       [ 0.99455849],\n",
       "       [ 0.99455849],\n",
       "       [ 0.99455849],\n",
       "       [ 1.06942176],\n",
       "       [ 1.06942176],\n",
       "       [ 1.06942176],\n",
       "       [ 1.06942176],\n",
       "       [ 1.06942176],\n",
       "       [ 1.06942176],\n",
       "       [ 1.06942176],\n",
       "       [ 1.06942176],\n",
       "       [ 1.06942176],\n",
       "       [ 1.06942176],\n",
       "       [ 1.06942176],\n",
       "       [ 1.06942176],\n",
       "       [ 1.06942176],\n",
       "       [ 1.06942176],\n",
       "       [ 1.06942176],\n",
       "       [ 1.06942176],\n",
       "       [ 1.06942176],\n",
       "       [ 1.14428502],\n",
       "       [ 1.14428502],\n",
       "       [ 1.14428502],\n",
       "       [ 1.14428502],\n",
       "       [ 1.14428502],\n",
       "       [ 1.14428502],\n",
       "       [ 1.14428502],\n",
       "       [ 1.14428502],\n",
       "       [ 1.14428502],\n",
       "       [ 1.14428502],\n",
       "       [ 1.14428502],\n",
       "       [ 1.14428502],\n",
       "       [ 1.14428502],\n",
       "       [ 1.14428502],\n",
       "       [ 1.21914829],\n",
       "       [ 1.21914829],\n",
       "       [ 1.21914829],\n",
       "       [ 1.21914829],\n",
       "       [ 1.21914829],\n",
       "       [ 1.21914829],\n",
       "       [ 1.21914829],\n",
       "       [ 1.21914829],\n",
       "       [ 1.21914829],\n",
       "       [ 1.21914829],\n",
       "       [ 1.21914829],\n",
       "       [ 1.21914829],\n",
       "       [ 1.21914829],\n",
       "       [ 1.29401155],\n",
       "       [ 1.29401155],\n",
       "       [ 1.29401155],\n",
       "       [ 1.29401155],\n",
       "       [ 1.29401155],\n",
       "       [ 1.29401155],\n",
       "       [ 1.29401155],\n",
       "       [ 1.29401155],\n",
       "       [ 1.29401155],\n",
       "       [ 1.29401155],\n",
       "       [ 1.36887482],\n",
       "       [ 1.36887482],\n",
       "       [ 1.36887482],\n",
       "       [ 1.36887482],\n",
       "       [ 1.36887482],\n",
       "       [ 1.36887482],\n",
       "       [ 1.44373809],\n",
       "       [ 1.44373809],\n",
       "       [ 1.44373809],\n",
       "       [ 1.44373809],\n",
       "       [ 1.44373809],\n",
       "       [ 1.44373809],\n",
       "       [ 1.44373809],\n",
       "       [ 1.44373809],\n",
       "       [ 1.44373809],\n",
       "       [ 1.44373809],\n",
       "       [ 1.44373809],\n",
       "       [ 1.51860135],\n",
       "       [ 1.51860135],\n",
       "       [ 1.51860135],\n",
       "       [ 1.51860135],\n",
       "       [ 1.51860135],\n",
       "       [ 1.51860135],\n",
       "       [ 1.59346462],\n",
       "       [ 1.59346462],\n",
       "       [ 1.59346462],\n",
       "       [ 1.59346462],\n",
       "       [ 1.59346462],\n",
       "       [ 1.59346462],\n",
       "       [ 1.59346462],\n",
       "       [ 1.59346462],\n",
       "       [ 1.59346462],\n",
       "       [ 1.66832788],\n",
       "       [ 1.66832788],\n",
       "       [ 1.66832788],\n",
       "       [ 1.66832788],\n",
       "       [ 1.66832788],\n",
       "       [ 1.66832788],\n",
       "       [ 1.74319115],\n",
       "       [ 1.74319115],\n",
       "       [ 1.74319115],\n",
       "       [ 1.74319115],\n",
       "       [ 1.81805442],\n",
       "       [ 1.81805442],\n",
       "       [ 1.81805442],\n",
       "       [ 1.81805442],\n",
       "       [ 1.81805442],\n",
       "       [ 1.81805442],\n",
       "       [ 1.81805442],\n",
       "       [ 1.81805442],\n",
       "       [ 1.89291768],\n",
       "       [ 1.89291768],\n",
       "       [ 1.89291768],\n",
       "       [ 1.89291768],\n",
       "       [ 1.96778095],\n",
       "       [ 1.96778095],\n",
       "       [ 1.96778095],\n",
       "       [ 1.96778095],\n",
       "       [ 1.96778095],\n",
       "       [ 1.96778095],\n",
       "       [ 2.04264421],\n",
       "       [ 2.04264421],\n",
       "       [ 2.04264421],\n",
       "       [ 2.04264421],\n",
       "       [ 2.11750748],\n",
       "       [ 2.11750748],\n",
       "       [ 2.19237075],\n",
       "       [ 2.19237075],\n",
       "       [ 2.26723401],\n",
       "       [ 2.26723401],\n",
       "       [ 2.34209728],\n",
       "       [ 2.34209728],\n",
       "       [ 2.34209728],\n",
       "       [ 2.34209728],\n",
       "       [ 2.34209728],\n",
       "       [ 2.41696054],\n",
       "       [ 2.49182381],\n",
       "       [ 2.56668708],\n",
       "       [ 2.56668708],\n",
       "       [ 2.64155034],\n",
       "       [ 2.64155034],\n",
       "       [ 2.71641361],\n",
       "       [ 2.71641361],\n",
       "       [ 3.1655932 ],\n",
       "       [ 3.24045647],\n",
       "       [ 3.31531974],\n",
       "       [ 4.13881566]])"
      ]
     },
     "execution_count": 40,
     "metadata": {},
     "output_type": "execute_result"
    }
   ],
   "source": [
    "X"
   ]
  },
  {
   "cell_type": "code",
   "execution_count": null,
   "id": "cbd2c65f-f16f-44f4-819b-4fb4576a714f",
   "metadata": {},
   "outputs": [],
   "source": []
  }
 ],
 "metadata": {
  "kernelspec": {
   "display_name": "Python 3 (ipykernel)",
   "language": "python",
   "name": "python3"
  },
  "language_info": {
   "codemirror_mode": {
    "name": "ipython",
    "version": 3
   },
   "file_extension": ".py",
   "mimetype": "text/x-python",
   "name": "python",
   "nbconvert_exporter": "python",
   "pygments_lexer": "ipython3",
   "version": "3.11.3"
  }
 },
 "nbformat": 4,
 "nbformat_minor": 5
}
